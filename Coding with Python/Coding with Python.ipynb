{
 "cells": [
  {
   "cell_type": "markdown",
   "metadata": {},
   "source": [
    "# Coding with Python\n",
    "## Wendy Liang"
   ]
  },
  {
   "cell_type": "markdown",
   "metadata": {},
   "source": [
    "### Task 1\n",
    "Having never coded in Python before, [Exploratory Computing with Python](https://nbviewer.jupyter.org/github/mbakker7/exploratory_computing_with_python/blob/master/notebook1_basics_plotting/py_exploratory_comp_1_sol.ipynb) served as a great intro with sample codes and results. This notebook also had exercises and answers to the exercises along with visualizations. "
   ]
  },
  {
   "cell_type": "markdown",
   "metadata": {},
   "source": [
    "### Task 2\n",
    "\n",
    "#### A) Popular Python Packages\n",
    "\n",
    "**[Requests](http://www.python-requests.org/en/master/)** is a package that allows for easier HTTP requests. This package eliminates the need to manually code in query strings into the URLS during API calls. \n",
    "\n",
    "**[Scrapy](https://scrapy.org/)** is an open sourced and collaborative framework that helps extract specified data from websites. You simply write the rules of what to scrape and the web spiders will do the rest of the work.\n",
    "\n",
    "**[SciPy](https://www.scipy.org/)** is an open sourced package geared towards advanced math, science and engineering functionalities. This package also contains some other core Python libraries like NumPy.\n",
    "\n",
    "#### B) GGPlot for Python\n",
    "Python has a package called **[ggplot](https://pypi.org/project/ggplot/)** that have overlapping features similar to ggplot2 for R.\n",
    "\n",
    "#### C) Python Data Analysis\n",
    "A popular python library used for data analysis would be **[Pandas](https://www.datacamp.com/community/tutorials/pandas-tutorial-dataframe-python)**."
   ]
  },
  {
   "cell_type": "markdown",
   "metadata": {},
   "source": [
    "### Task 3\n",
    "- Python allows for String concatenation simply by using a `+` operator whileas R requires functions like `paste()`.\n",
    "- Variable assigning for Python specifically uses `=`, but in R, it's more advised to use `<-` to assign variables.\n",
    "- The environment that's used to code in Python is significantly different than R. Here, I'm using jupyter to code in Python and we run the lines of code in cells and each cell can be a different coding language.\n",
    "- Python Strings also uses a 0 based index, different from R that uses a 1 based index."
   ]
  },
  {
   "cell_type": "markdown",
   "metadata": {},
   "source": [
    "### Task 4"
   ]
  },
  {
   "cell_type": "code",
   "execution_count": 13,
   "metadata": {},
   "outputs": [
    {
     "name": "stdout",
     "output_type": "stream",
     "text": [
      "I like food.\n"
     ]
    }
   ],
   "source": [
    "x = \"I\"\n",
    "y = \"like\"\n",
    "z = \"food\"\n",
    "\n",
    "print x + \" \" + y + \" \" + z + \".\""
   ]
  },
  {
   "cell_type": "markdown",
   "metadata": {},
   "source": [
    "### Task 5"
   ]
  },
  {
   "cell_type": "code",
   "execution_count": 14,
   "metadata": {},
   "outputs": [
    {
     "name": "stdout",
     "output_type": "stream",
     "text": [
      "5 I like food\n",
      "5\n"
     ]
    }
   ],
   "source": [
    "num = 5\n",
    "\n",
    "print str(num) + \" \" + x + \" \" + y + \" \" + z\n",
    "print str(num).upper()"
   ]
  },
  {
   "cell_type": "markdown",
   "metadata": {},
   "source": [
    "### Task 6"
   ]
  },
  {
   "cell_type": "code",
   "execution_count": 15,
   "metadata": {},
   "outputs": [
    {
     "data": {
      "text/plain": [
       "13"
      ]
     },
     "execution_count": 15,
     "metadata": {},
     "output_type": "execute_result"
    }
   ],
   "source": [
    "sentence = [str(num), x, y, z]\n",
    "sentence_string = \" \"\n",
    "sentence_string = sentence_string.join(sentence)\n",
    "sentence_string.count(\"o\")\n",
    "sentence_string.find(\"food\")\n",
    "len(sentence_string)"
   ]
  },
  {
   "cell_type": "markdown",
   "metadata": {},
   "source": [
    "### Task 7"
   ]
  },
  {
   "cell_type": "code",
   "execution_count": 16,
   "metadata": {},
   "outputs": [
    {
     "name": "stdout",
     "output_type": "stream",
     "text": [
      "5 I li\n"
     ]
    }
   ],
   "source": [
    "half = len(sentence_string) / 2\n",
    "print sentence_string[0:half]"
   ]
  },
  {
   "cell_type": "markdown",
   "metadata": {},
   "source": [
    "### Task 8"
   ]
  },
  {
   "cell_type": "code",
   "execution_count": 17,
   "metadata": {},
   "outputs": [
    {
     "name": "stdout",
     "output_type": "stream",
     "text": [
      " I like fries\n"
     ]
    }
   ],
   "source": [
    "sentence_string = sentence_string.strip(\"5\")\n",
    "sentence_string = sentence_string.replace(\"food\", \"fries\")\n",
    "print sentence_string"
   ]
  },
  {
   "cell_type": "markdown",
   "metadata": {},
   "source": [
    "### Task 9"
   ]
  },
  {
   "cell_type": "code",
   "execution_count": 18,
   "metadata": {},
   "outputs": [
    {
     "name": "stdout",
     "output_type": "stream",
     "text": [
      "['', 'I', 'really', 'like', 'fries']\n"
     ]
    }
   ],
   "source": [
    "new_sentence = sentence_string.split(\" \")\n",
    "new_half = len(new_sentence) / 2\n",
    "new_sentence.insert(new_half, \"really\")\n",
    "print new_sentence"
   ]
  },
  {
   "cell_type": "markdown",
   "metadata": {},
   "source": [
    "### Task 10"
   ]
  },
  {
   "cell_type": "code",
   "execution_count": 19,
   "metadata": {},
   "outputs": [
    {
     "name": "stdout",
     "output_type": "stream",
     "text": [
      "2nd Quartile\n"
     ]
    }
   ],
   "source": [
    "import random\n",
    "\n",
    "x = random.randint(1, 100)\n",
    "if (x >= 0 and x <= 25) :\n",
    "    print \"1st Quartile\"\n",
    "elif (x > 25 and x <= 50) :\n",
    "    print \"2nd Quartile\"\n",
    "elif (x > 50 and x <= 75) :\n",
    "    print \"3rd Quartile\"\n",
    "else :\n",
    "    print \"4th Quartile\""
   ]
  },
  {
   "cell_type": "markdown",
   "metadata": {},
   "source": [
    "### Task 11"
   ]
  },
  {
   "cell_type": "code",
   "execution_count": 20,
   "metadata": {},
   "outputs": [
    {
     "name": "stdout",
     "output_type": "stream",
     "text": [
      "Warning, residents of Seattle, temperatures will reach sub-zero temperatures today, please stay indoors if possible\n",
      "Warning, residents of Kent, temperatures will reach sub-zero temperatures today, please stay indoors if possible\n",
      "Warning, residents of Renton, temperatures will reach sub-zero temperatures today, please stay indoors if possible\n",
      "Warning, residents of Bothell, temperatures will reach sub-zero temperatures today, please stay indoors if possible\n",
      "Warning, residents of Bellevue, temperatures will reach sub-zero temperatures today, please stay indoors if possible\n",
      "Warning, residents of Tacoma, temperatures will reach sub-zero temperatures today, please stay indoors if possible\n"
     ]
    }
   ],
   "source": [
    "cities = [\"Seattle\", \"Kent\", \"Renton\", \n",
    "          \"Bothell\", \"Bellevue\", \"Tacoma\"]\n",
    "for city in cities :\n",
    "    print \"Warning, residents of \" + city + \", temperatures will reach sub-zero temperatures today, please stay indoors if possible\""
   ]
  },
  {
   "cell_type": "markdown",
   "metadata": {},
   "source": [
    "### Task 12"
   ]
  },
  {
   "cell_type": "code",
   "execution_count": 21,
   "metadata": {},
   "outputs": [
    {
     "name": "stdout",
     "output_type": "stream",
     "text": [
      "U://Users/Zhang/Geog_458/Washington.shp\n",
      "U://Users/Zhang/Geog_458/California.shp\n",
      "U://Users/Zhang/Geog_458/Nevada.shp\n",
      "U://Users/Zhang/Geog_458/Idaho.shp\n",
      "U://Users/Zhang/Geog_458/Montana.shp\n",
      "U://Users/Zhang/Geog_458/Utah.shp\n",
      "U://Users/Zhang/Geog_458/Colorado.shp\n",
      "U://Users/Zhang/Geog_458/New Mexico.shp\n"
     ]
    }
   ],
   "source": [
    "states = [\"Washington\", \"California\", \"Nevada\", \"Idaho\", \n",
    "          \"Montana\", \"Utah\", \"Colorado\", \"New Mexico\"]\n",
    "paths = []\n",
    "\n",
    "for state in states :\n",
    "    path = \"U://Users/Zhang/Geog_458/\" + state + \".shp\"\n",
    "    paths.append(path)\n",
    "    print path"
   ]
  },
  {
   "cell_type": "markdown",
   "metadata": {},
   "source": [
    "### Task 13"
   ]
  },
  {
   "cell_type": "code",
   "execution_count": 22,
   "metadata": {},
   "outputs": [
    {
     "name": "stdout",
     "output_type": "stream",
     "text": [
      "T-minus 10\n",
      "T-minus 9\n",
      "T-minus 8\n",
      "T-minus 7\n",
      "T-minus 6\n",
      "T-minus 5\n",
      "T-minus 4\n",
      "T-minus 3\n",
      "T-minus 2\n",
      "T-minus 1\n",
      "T-minus 0\n"
     ]
    }
   ],
   "source": [
    "i = 10\n",
    "while i >= 0 :\n",
    "    print \"T-minus \" + str(i)\n",
    "    i -= 1"
   ]
  },
  {
   "cell_type": "markdown",
   "metadata": {},
   "source": [
    "### Task 14"
   ]
  },
  {
   "cell_type": "code",
   "execution_count": 23,
   "metadata": {},
   "outputs": [],
   "source": [
    "def countdown(num) :\n",
    "    j = num\n",
    "    while j >= 0 :\n",
    "        print \"T-minus \" + str(j)\n",
    "        j -= 1"
   ]
  },
  {
   "cell_type": "markdown",
   "metadata": {},
   "source": [
    "### Task 15"
   ]
  },
  {
   "cell_type": "code",
   "execution_count": 24,
   "metadata": {},
   "outputs": [],
   "source": [
    "def quartile_calc(num) :\n",
    "    if (num >= 0 and num <= 25) :\n",
    "        print \"1st Quartile\"\n",
    "    elif (num > 25 and num <= 50) :\n",
    "        print \"2nd Quartile\"\n",
    "    elif (num > 50 and num <= 75) :\n",
    "        print \"3rd Quartile\"\n",
    "    elif (num > 75 and num <= 100) :\n",
    "        print \"4th Quartile\"\n",
    "    elif (num < 0 or num > 100) :\n",
    "        print \"Error\""
   ]
  }
 ],
 "metadata": {
  "kernelspec": {
   "display_name": "Python 2",
   "language": "python",
   "name": "python2"
  },
  "language_info": {
   "codemirror_mode": {
    "name": "ipython",
    "version": 2
   },
   "file_extension": ".py",
   "mimetype": "text/x-python",
   "name": "python",
   "nbconvert_exporter": "python",
   "pygments_lexer": "ipython2",
   "version": "2.7.15"
  }
 },
 "nbformat": 4,
 "nbformat_minor": 2
}
